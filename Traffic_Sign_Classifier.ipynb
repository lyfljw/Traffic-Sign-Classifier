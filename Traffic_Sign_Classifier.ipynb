{
 "cells": [
  {
   "cell_type": "markdown",
   "metadata": {},
   "source": [
    "# Self-Driving Car Engineer Nanodegree\n",
    "\n",
    "## Deep Learning\n",
    "\n",
    "## Project: Build a Traffic Sign Recognition Classifier\n",
    "\n",
    "In this notebook, a template is provided for you to implement your functionality in stages, which is required to successfully complete this project. If additional code is required that cannot be included in the notebook, be sure that the Python code is successfully imported and included in your submission if necessary. \n",
    "\n",
    "> **Note**: Once you have completed all of the code implementations, you need to finalize your work by exporting the iPython Notebook as an HTML document. Before exporting the notebook to html, all of the code cells need to have been run so that reviewers can see the final implementation and output. You can then export the notebook by using the menu above and navigating to  \\n\",\n",
    "    \"**File -> Download as -> HTML (.html)**. Include the finished document along with this notebook as your submission. \n",
    "\n",
    "In addition to implementing code, there is a writeup to complete. The writeup should be completed in a separate file, which can be either a markdown file or a pdf document. There is a [write up template](https://github.com/udacity/CarND-Traffic-Sign-Classifier-Project/blob/master/writeup_template.md) that can be used to guide the writing process. Completing the code template and writeup template will cover all of the [rubric points](https://review.udacity.com/#!/rubrics/481/view) for this project.\n",
    "\n",
    "The [rubric](https://review.udacity.com/#!/rubrics/481/view) contains \"Stand Out Suggestions\" for enhancing the project beyond the minimum requirements. The stand out suggestions are optional. If you decide to pursue the \"stand out suggestions\", you can include the code in this Ipython notebook and also discuss the results in the writeup file.\n",
    "\n",
    "\n",
    ">**Note:** Code and Markdown cells can be executed using the **Shift + Enter** keyboard shortcut. In addition, Markdown cells can be edited by typically double-clicking the cell to enter edit mode."
   ]
  },
  {
   "cell_type": "markdown",
   "metadata": {},
   "source": [
    "---\n",
    "## Step 0: Load The Data"
   ]
  },
  {
   "cell_type": "code",
   "execution_count": 1,
   "metadata": {},
   "outputs": [],
   "source": [
    "# Load pickled data\n",
    "import pickle\n",
    "import numpy as np\n",
    "# TODO: Fill this in based on where you saved the training and testing data\n",
    "\n",
    "\n",
    "training_file = \"traffic-signs-data/train.p\"\n",
    "validation_file=\"traffic-signs-data/valid.p\"\n",
    "testing_file = \"traffic-signs-data/test.p\"\n",
    "\n",
    "with open(training_file, mode='rb') as f:\n",
    "    train = pickle.load(f)\n",
    "with open(validation_file, mode='rb') as f:\n",
    "    valid = pickle.load(f)\n",
    "with open(testing_file, mode='rb') as f:\n",
    "    test = pickle.load(f)\n",
    "\n",
    "X_train, y_train = train['features'], train['labels']\n",
    "X_valid, y_valid = valid['features'], valid['labels']\n",
    "X_test, y_test = test['features'], test['labels']\n"
   ]
  },
  {
   "cell_type": "code",
   "execution_count": 2,
   "metadata": {},
   "outputs": [
    {
     "name": "stdout",
     "output_type": "stream",
     "text": [
      "['Speed limit (20km/h)', 'Speed limit (30km/h)', 'Speed limit (50km/h)', 'Speed limit (60km/h)', 'Speed limit (70km/h)', 'Speed limit (80km/h)', 'End of speed limit (80km/h)', 'Speed limit (100km/h)', 'Speed limit (120km/h)', 'No passing', 'No passing for vehicles over 3.5 metric tons', 'Right-of-way at the next intersection', 'Priority road', 'Yield', 'Stop', 'No vehicles', 'Vehicles over 3.5 metric tons prohibited', 'No entry', 'General caution', 'Dangerous curve to the left', 'Dangerous curve to the right', 'Double curve', 'Bumpy road', 'Slippery road', 'Road narrows on the right', 'Road work', 'Traffic signals', 'Pedestrians', 'Children crossing', 'Bicycles crossing', 'Beware of ice/snow', 'Wild animals crossing', 'End of all speed and passing limits', 'Turn right ahead', 'Turn left ahead', 'Ahead only', 'Go straight or right', 'Go straight or left', 'Keep right', 'Keep left', 'Roundabout mandatory', 'End of no passing', 'End of no passing by vehicles over 3.5 metric tons']\n"
     ]
    }
   ],
   "source": [
    "# dictionary to map the numbers and the definition \n",
    "import pandas as pd\n",
    "signnames = pd.read_csv(\"signnames.csv\")\n",
    "signnames = [i for i in signnames[\"SignName\"]]\n",
    "print(signnames)\n",
    "\n"
   ]
  },
  {
   "cell_type": "markdown",
   "metadata": {},
   "source": [
    "---\n",
    "\n",
    "## Step 1: Dataset Summary & Exploration\n",
    "\n",
    "The pickled data is a dictionary with 4 key/value pairs:\n",
    "\n",
    "- `'features'` is a 4D array containing raw pixel data of the traffic sign images, (num examples, width, height, channels).\n",
    "- `'labels'` is a 1D array containing the label/class id of the traffic sign. The file `signnames.csv` contains id -> name mappings for each id.\n",
    "- `'sizes'` is a list containing tuples, (width, height) representing the original width and height the image.\n",
    "- `'coords'` is a list containing tuples, (x1, y1, x2, y2) representing coordinates of a bounding box around the sign in the image. **THESE COORDINATES ASSUME THE ORIGINAL IMAGE. THE PICKLED DATA CONTAINS RESIZED VERSIONS (32 by 32) OF THESE IMAGES**\n",
    "\n",
    "Complete the basic data summary below. Use python, numpy and/or pandas methods to calculate the data summary rather than hard coding the results. For example, the [pandas shape method](http://pandas.pydata.org/pandas-docs/stable/generated/pandas.DataFrame.shape.html) might be useful for calculating some of the summary results. "
   ]
  },
  {
   "cell_type": "markdown",
   "metadata": {},
   "source": [
    "### Provide a Basic Summary of the Data Set Using Python, Numpy and/or Pandas"
   ]
  },
  {
   "cell_type": "code",
   "execution_count": 3,
   "metadata": {},
   "outputs": [
    {
     "name": "stdout",
     "output_type": "stream",
     "text": [
      "Number of training examples = 34799\n",
      "Number of validation examples = 4410\n",
      "Number of testing examples = 12630\n",
      "Image data shape = (32, 32, 3)\n",
      "Number of classes = 43\n"
     ]
    }
   ],
   "source": [
    "### Replace each question mark with the appropriate value. \n",
    "### Use python, pandas or numpy methods rather than hard coding the results\n",
    "\n",
    "# TODO: Number of training examples\n",
    "n_train = len(X_train)\n",
    "\n",
    "# TODO: Number of validation examples\n",
    "n_validation = len(X_valid)\n",
    "\n",
    "# TODO: Number of testing examples.\n",
    "n_test = len(X_test)\n",
    "\n",
    "# TODO: What's the shape of an traffic sign image?\n",
    "image_shape = X_train[0].shape\n",
    "\n",
    "# TODO: How many unique classes/labels there are in the dataset.\n",
    "n_classes = len(signnames)\n",
    "\n",
    "print(\"Number of training examples =\", n_train)\n",
    "print(\"Number of validation examples =\", n_validation)\n",
    "\n",
    "print(\"Number of testing examples =\", n_test)\n",
    "print(\"Image data shape =\", image_shape)\n",
    "print(\"Number of classes =\", n_classes)\n"
   ]
  },
  {
   "cell_type": "markdown",
   "metadata": {},
   "source": [
    "### Include an exploratory visualization of the dataset"
   ]
  },
  {
   "cell_type": "markdown",
   "metadata": {},
   "source": [
    "Visualize the German Traffic Signs Dataset using the pickled file(s). This is open ended, suggestions include: plotting traffic sign images, plotting the count of each sign, etc. \n",
    "\n",
    "The [Matplotlib](http://matplotlib.org/) [examples](http://matplotlib.org/examples/index.html) and [gallery](http://matplotlib.org/gallery.html) pages are a great resource for doing visualizations in Python.\n",
    "\n",
    "**NOTE:** It's recommended you start with something simple first. If you wish to do more, come back to it after you've completed the rest of the sections. It can be interesting to look at the distribution of classes in the training, validation and test set. Is the distribution the same? Are there more examples of some classes than others?"
   ]
  },
  {
   "cell_type": "code",
   "execution_count": 4,
   "metadata": {},
   "outputs": [
    {
     "name": "stdout",
     "output_type": "stream",
     "text": [
      "The label is  15\n",
      "It's image  29976  in the training data\n"
     ]
    },
    {
     "data": {
      "image/png": "[encoded data removed]",
      "text/plain": [
       "<matplotlib.figure.Figure at 0x2e9630e6cc0>"
      ]
     },
     "metadata": {},
     "output_type": "display_data"
    }
   ],
   "source": [
    "### Data exploration visualization code goes here.\n",
    "### Feel free to use as many code cells as needed.\n",
    "import matplotlib.pyplot as plt\n",
    "# Visualizations will be shown in the notebook.\n",
    "%matplotlib inline\n",
    "import numpy as np\n",
    "index = np.random.randint(0, n_train)\n",
    "image = X_train[index]\n",
    "plt.title(signnames[y_train[index]])\n",
    "plt.imshow(image)\n",
    "print(\"The label is \", y_train[index])\n",
    "print(\"It's image \", index, \" in the training data\")\n",
    "\n"
   ]
  },
  {
   "cell_type": "code",
   "execution_count": 5,
   "metadata": {},
   "outputs": [
    {
     "name": "stdout",
     "output_type": "stream",
     "text": [
      "Label 0 has 180 training examples\tLabel 1 has 1980 training examples\tLabel 2 has 2010 training examples\t\n",
      "Label 3 has 1260 training examples\tLabel 4 has 1770 training examples\tLabel 5 has 1650 training examples\t\n",
      "Label 6 has 360 training examples\tLabel 7 has 1290 training examples\tLabel 8 has 1260 training examples\t\n",
      "Label 9 has 1320 training examples\tLabel 10 has 1800 training examples\tLabel 11 has 1170 training examples\t\n",
      "Label 12 has 1890 training examples\tLabel 13 has 1920 training examples\tLabel 14 has 690 training examples\t\n",
      "Label 15 has 540 training examples\tLabel 16 has 360 training examples\tLabel 17 has 990 training examples\t\n",
      "Label 18 has 1080 training examples\tLabel 19 has 180 training examples\tLabel 20 has 300 training examples\t\n",
      "Label 21 has 270 training examples\tLabel 22 has 330 training examples\tLabel 23 has 450 training examples\t\n",
      "Label 24 has 240 training examples\tLabel 25 has 1350 training examples\tLabel 26 has 540 training examples\t\n",
      "Label 27 has 210 training examples\tLabel 28 has 480 training examples\tLabel 29 has 240 training examples\t\n",
      "Label 30 has 390 training examples\tLabel 31 has 690 training examples\tLabel 32 has 210 training examples\t\n",
      "Label 33 has 599 training examples\tLabel 34 has 360 training examples\tLabel 35 has 1080 training examples\t\n",
      "Label 36 has 330 training examples\tLabel 37 has 180 training examples\tLabel 38 has 1860 training examples\t\n",
      "Label 39 has 270 training examples\tLabel 40 has 300 training examples\tLabel 41 has 210 training examples\t\n",
      "Label 42 has 210 training examples\t"
     ]
    },
    {
     "data": {
      "image/png": "[encoded data removed]",
      "text/plain": [
       "<matplotlib.figure.Figure at 0x2e9634f79e8>"
      ]
     },
     "metadata": {},
     "output_type": "display_data"
    }
   ],
   "source": [
    "for i in range(43):\n",
    "    if i%3 == 0 and i!=0:\n",
    "        print()\n",
    "        print(\"Label %d has %d training examples\\t\" %(i, np.sum(y_train==i)),end=\"\")\n",
    "    else:\n",
    "        print(\"Label %d has %d training examples\\t\" %(i, np.sum(y_train==i)),end=\"\")\n",
    "\n",
    "fig = plt.figure(figsize=(15,6))\n",
    "plt.hist(y_train, bins=43, histtype=\"bar\")\n",
    "plt.show()"
   ]
  },
  {
   "cell_type": "code",
   "execution_count": 6,
   "metadata": {},
   "outputs": [
    {
     "name": "stdout",
     "output_type": "stream",
     "text": [
      "Label 0 has 4320 training examples\tLabel 1 has 5940 training examples\tLabel 2 has 6030 training examples\t\n",
      "Label 3 has 5040 training examples\tLabel 4 has 5310 training examples\tLabel 5 has 4950 training examples\t\n",
      "Label 6 has 4320 training examples\tLabel 7 has 5160 training examples\tLabel 8 has 5040 training examples\t\n",
      "Label 9 has 5280 training examples\tLabel 10 has 5400 training examples\tLabel 11 has 4680 training examples\t\n",
      "Label 12 has 5670 training examples\tLabel 13 has 5760 training examples\tLabel 14 has 4830 training examples\t\n",
      "Label 15 has 4320 training examples\tLabel 16 has 4320 training examples\tLabel 17 has 4950 training examples\t\n",
      "Label 18 has 4320 training examples\tLabel 19 has 4320 training examples\tLabel 20 has 4500 training examples\t\n",
      "Label 21 has 4320 training examples\tLabel 22 has 4290 training examples\tLabel 23 has 4500 training examples\t\n",
      "Label 24 has 4320 training examples\tLabel 25 has 5400 training examples\tLabel 26 has 4320 training examples\t\n",
      "Label 27 has 4410 training examples\tLabel 28 has 4320 training examples\tLabel 29 has 4320 training examples\t\n",
      "Label 30 has 4290 training examples\tLabel 31 has 4830 training examples\tLabel 32 has 4410 training examples\t\n",
      "Label 33 has 4792 training examples\tLabel 34 has 4320 training examples\tLabel 35 has 4320 training examples\t\n",
      "Label 36 has 4290 training examples\tLabel 37 has 4320 training examples\tLabel 38 has 5580 training examples\t\n",
      "Label 39 has 4320 training examples\tLabel 40 has 4500 training examples\tLabel 41 has 4410 training examples\t\n",
      "Label 42 has 4410 training examples\t"
     ]
    },
    {
     "data": {
      "image/png": "[encoded data removed]",
      "text/plain": [
       "<matplotlib.figure.Figure at 0x2e95fc7f6d8>"
      ]
     },
     "metadata": {},
     "output_type": "display_data"
    }
   ],
   "source": [
    "for i in range(43):\n",
    "    samples = np.sum(y_train==i)\n",
    "    tt = X_train[y_train==i]\n",
    "    yy = (np.ones(samples)*i).astype(\"int32\")\n",
    "    scale = 4200//samples\n",
    "    for j in range(scale):\n",
    "        X_train=np.append(X_train, tt, axis = 0)\n",
    "        y_train=np.append(y_train, yy, axis = 0)\n",
    "\n",
    "            \n",
    "for i in range(43):\n",
    "    if i%3 == 0 and i!=0:\n",
    "        print()\n",
    "        print(\"Label %d has %d training examples\\t\" %(i, np.sum(y_train==i)),end=\"\")\n",
    "    else:\n",
    "        print(\"Label %d has %d training examples\\t\" %(i, np.sum(y_train==i)),end=\"\")\n",
    "\n",
    "fig = plt.figure(figsize=(15,6))\n",
    "plt.hist(y_train, bins=43, histtype=\"bar\")\n",
    "plt.show()"
   ]
  },
  {
   "cell_type": "code",
   "execution_count": 7,
   "metadata": {},
   "outputs": [
    {
     "name": "stdout",
     "output_type": "stream",
     "text": [
      "There used to be 34799 training examples in the data set\n",
      "...\n",
      "Now there are 203452 training examples\n"
     ]
    }
   ],
   "source": [
    "print(\"There used to be\",n_train,\"training examples in the data set\" )\n",
    "print(\"...\")\n",
    "print(\"Now there are\",len(y_train), \"training examples\")"
   ]
  },
  {
   "cell_type": "markdown",
   "metadata": {},
   "source": [
    "----\n",
    "\n",
    "## Step 2: Design and Test a Model Architecture\n",
    "\n",
    "Design and implement a deep learning model that learns to recognize traffic signs. Train and test your model on the [German Traffic Sign Dataset](http://benchmark.ini.rub.de/?section=gtsrb&subsection=dataset).\n",
    "\n",
    "The LeNet-5 implementation shown in the [classroom](https://classroom.udacity.com/nanodegrees/nd013/parts/fbf77062-5703-404e-b60c-95b78b2f3f9e/modules/6df7ae49-c61c-4bb2-a23e-6527e69209ec/lessons/601ae704-1035-4287-8b11-e2c2716217ad/concepts/d4aca031-508f-4e0b-b493-e7b706120f81) at the end of the CNN lesson is a solid starting point. You'll have to change the number of classes and possibly the preprocessing, but aside from that it's plug and play! \n",
    "\n",
    "With the LeNet-5 solution from the lecture, you should expect a validation set accuracy of about 0.89. To meet specifications, the validation set accuracy will need to be at least 0.93. It is possible to get an even higher accuracy, but 0.93 is the minimum for a successful project submission. \n",
    "\n",
    "There are various aspects to consider when thinking about this problem:\n",
    "\n",
    "- Neural network architecture (is the network over or underfitting?)\n",
    "- Play around preprocessing techniques (normalization, rgb to grayscale, etc)\n",
    "- Number of examples per label (some have more than others).\n",
    "- Generate fake data.\n",
    "\n",
    "Here is an example of a [published baseline model on this problem](http://yann.lecun.com/exdb/publis/pdf/sermanet-ijcnn-11.pdf). It's not required to be familiar with the approach used in the paper but, it's good practice to try to read papers like these."
   ]
  },
  {
   "cell_type": "markdown",
   "metadata": {},
   "source": [
    "### Pre-process the Data Set (normalization, grayscale, etc.)"
   ]
  },
  {
   "cell_type": "markdown",
   "metadata": {},
   "source": [
    "Minimally, the image data should be normalized so that the data has mean zero and equal variance. For image data, `(pixel - 128)/ 128` is a quick way to approximately normalize the data and can be used in this project. \n",
    "\n",
    "Other pre-processing steps are optional. You can try different techniques to see if it improves performance. \n",
    "\n",
    "Use the code cell (or multiple code cells, if necessary) to implement the first step of your project."
   ]
  },
  {
   "cell_type": "markdown",
   "metadata": {},
   "source": [
    "------------------------------------\n",
    "\n",
    "\n",
    "\n",
    "\n",
    "\n",
    "\n",
    "\n",
    "\n",
    "\n",
    "\n",
    "\n",
    "\n",
    "This cell can be located before the \"Include an exploratory visualization of the dataset\" section\n",
    "It can help avoid processing a larger data set."
   ]
  },
  {
   "cell_type": "code",
   "execution_count": 8,
   "metadata": {},
   "outputs": [],
   "source": [
    "### Preprocess the data here. It is required to normalize the data. Other preprocessing steps could include \n",
    "### converting to grayscale, etc.\n",
    "### Feel free to use as many code cells as needed.\n",
    "\n",
    "\n",
    "\n",
    "# Use Min-Max Scaling instead of standardization here in case there are some padding later.\n",
    "def mm_scale(image):\n",
    "    \"\"\"\n",
    "    Normalized a picture, map all pixal to the range [0,1]\n",
    "    \n",
    "    Parameter:\n",
    "    image: numpy array image with a [0-225] threshold\n",
    "    \n",
    "    Returns:\n",
    "    image: a dtype = \"float32\" Numpy array image.\n",
    "    \n",
    "    \"\"\"\n",
    "    image = image/255\n",
    "    return image.astype(\"float32\")\n",
    "\n",
    "\n",
    "X_train = mm_scale(X_train)\n",
    "X_valid = mm_scale(X_valid)\n",
    "X_test = mm_scale(X_test)\n",
    "assert X_train.dtype == \"float32\""
   ]
  },
  {
   "cell_type": "markdown",
   "metadata": {},
   "source": [
    "### Model Architecture"
   ]
  },
  {
   "cell_type": "code",
   "execution_count": 9,
   "metadata": {},
   "outputs": [],
   "source": [
    "def evaluate(X_data, y_data):\n",
    "    \"\"\"\n",
    "    evaluate the accuracy of prediction the input data and input labels\n",
    "    \n",
    "    Parameters:\n",
    "    X_data: feature set\n",
    "    y_data: labels\n",
    "    \n",
    "    Returns: \n",
    "    a float number of the accuracy\n",
    "    \n",
    "    \"\"\"\n",
    "    num_examples = len(X_data)\n",
    "    total_accuracy = 0\n",
    "    sess = tf.get_default_session()\n",
    "    for offset in range(0, num_examples, BATCH_SIZE):\n",
    "        batch_x, batch_y = X_data[offset:offset+BATCH_SIZE], y_data[offset:offset+BATCH_SIZE]\n",
    "        accuracy = sess.run(accuracy_operation, feed_dict={x: batch_x, y: batch_y})\n",
    "        total_accuracy += (accuracy * len(batch_x))\n",
    "    return total_accuracy / num_examples"
   ]
  },
  {
   "cell_type": "code",
   "execution_count": 10,
   "metadata": {},
   "outputs": [],
   "source": [
    "### Define your architecture here.\n",
    "### Feel free to use as many code cells as needed.\n",
    "import tensorflow as tf\n",
    "from tensorflow.contrib.layers import flatten\n",
    "from sklearn.utils import shuffle\n",
    "\n",
    "def MyNet(x):    \n",
    "    \"\"\"\n",
    "    Defined the NN model and apply it to the input to get the predction \n",
    "    \n",
    "    Parameters:\n",
    "    x: images \n",
    "    Returns:\n",
    "    logits: the softmax output of the predctions of input images after the model\n",
    "    \n",
    "    \"\"\"\n",
    "    \n",
    "    # Arguments used for tf.truncated_normal, randomly defines variables for the weights and biases for each layer\n",
    "    mu = 0\n",
    "    sigma = 0.1\n",
    "    # Convolutional Layer 1:  Input = 32x32x3. Output = 28x28x24.\n",
    "    conv1_w = tf.Variable(tf.truncated_normal(shape=(5,5,3,24),mean = mu, stddev=sigma), name = \"conv1_w\")\n",
    "    conv1_b = tf.Variable(tf.zeros(24),name = \"conv1_b\")\n",
    "    conv1_z = tf.nn.conv2d(x, conv1_w, strides=[1,1,1,1], padding=\"VALID\")+conv1_b\n",
    "    conv1_a = tf.nn.tanh(conv1_z)\n",
    "    # max-pooling 28*28*24-> 14*14*24\n",
    "    conv1_p = tf.nn.max_pool(conv1_a, ksize=[1,2,2,1], strides=[1,2,2,1], padding=\"VALID\")\n",
    "    \n",
    "    # Convolutional Layer 2: 14x14x24. Output = 10x10x48.\n",
    "    conv2_w = tf.Variable(tf.truncated_normal(shape=(5,5,24,48),mean = mu, stddev=sigma),name = \"conv2_w\")\n",
    "    conv2_b = tf.Variable(tf.zeros(48),name = \"conv2_b\")\n",
    "    conv2_z = tf.nn.conv2d(conv1_p, conv2_w, strides = [1,1,1,1], padding = \"VALID\")+conv2_b\n",
    "    conv2_a = tf.nn.tanh(conv2_z)\n",
    "    # max-pooling 10*10*48 -> 5*5*48\n",
    "    conv2_p = tf.nn.max_pool(conv2_a, ksize=[1,2,2,1], strides = [1,2,2,1], padding = \"VALID\")\n",
    "    \n",
    "    # Flatten  5*5*48 -> 1*1200\n",
    "    fc0 = flatten(conv2_p)\n",
    "    \n",
    "    # Fully Connect Layer 1; Input = 1200. Output = 400.\n",
    "    fc1_w = tf.Variable(tf.truncated_normal(shape=[1200,400],mean=mu, stddev=sigma),name = \"fc1_w\")\n",
    "    fc1_b = tf.Variable(tf.zeros(400),name = \"fc1_b\")\n",
    "    fc1_z = tf.matmul(fc0,fc1_w)+fc1_b\n",
    "    fc1_a = tf.nn.tanh(fc1_z)\n",
    "    \n",
    "    # Fully Connected Layer 2. Input = 400. Output = 200.\n",
    "    fc2_w = tf.Variable(tf.truncated_normal(shape=[400,200],mean=mu, stddev=sigma),name = \"fc2_w\")\n",
    "    fc2_b = tf.Variable(tf.zeros(200),name = \"fc2_b\")\n",
    "    fc2_z = tf.matmul(fc1_a,fc2_w)+fc2_b\n",
    "    fc2_a = tf.nn.tanh(fc2_z)\n",
    "    \n",
    "    # Fully Connected Layer 3. Input = 200. Output = 43.\n",
    "    fc3_w = tf.Variable(tf.truncated_normal(shape=[200,43],mean=mu, stddev=sigma),name = \"fc3_w\")\n",
    "    fc3_b = tf.Variable(tf.zeros(43), name =\"fc3_b\")\n",
    "    fc3_z = tf.matmul(fc2_a,fc3_w)+fc3_b\n",
    "    fc3_a = tf.nn.softmax(fc3_z)\n",
    "    \n",
    "    \n",
    "    logits = fc3_a\n",
    "    \n",
    "    return logits\n",
    "\n",
    "\n"
   ]
  },
  {
   "cell_type": "markdown",
   "metadata": {},
   "source": [
    "### Train, Validate and Test the Model"
   ]
  },
  {
   "cell_type": "markdown",
   "metadata": {},
   "source": [
    "A validation set can be used to assess how well the model is performing. A low accuracy on the training and validation\n",
    "sets imply underfitting. A high accuracy on the training set but low accuracy on the validation set implies overfitting."
   ]
  },
  {
   "cell_type": "code",
   "execution_count": 11,
   "metadata": {},
   "outputs": [],
   "source": [
    "### Train your model here.\n",
    "### Calculate and report the accuracy on the training and validation set.\n",
    "### Once a final model architecture is selected, \n",
    "### the accuracy on the test set should be calculated and reported as well.\n",
    "### Feel free to use as many code cells as needed\n",
    "def train_model(X_train, y_train, sess): \n",
    "    \"\"\"\n",
    "    Train the model, update the variables defined in MyNet.\n",
    "    \n",
    "    Parameter:\n",
    "    X_train: training data\n",
    "    y_train: training labels\n",
    "    sess: current session\n",
    "    \n",
    "    Returns:\n",
    "    None\n",
    "    \"\"\"\n",
    "    num_examples = len(X_train)\n",
    "    print(\"Training...\")\n",
    "    print()\n",
    "    tic = time.time()\n",
    "    for i in range(EPOCHS):\n",
    "        X_train, y_train = shuffle(X_train, y_train)\n",
    "        for offset in range(0, num_examples, BATCH_SIZE):\n",
    "            end = offset + BATCH_SIZE\n",
    "            batch_x, batch_y = X_train[offset:end], y_train[offset:end]\n",
    "            sess.run(training_operation, feed_dict={x: batch_x, y: batch_y})\n",
    "            \n",
    "        training_accuracy = evaluate(X_train, y_train)\n",
    "        validation_accuracy = evaluate(X_valid, y_valid)\n",
    "\n",
    "        if validation_accuracy >0.98: #early stop\n",
    "            print(\"EPOCH {} ...\".format(i+1))\n",
    "            print(\"Now the validation Accuracy is {:.3f}, break\".format(validation_accuracy))\n",
    "            break\n",
    "        \n",
    "        toc = time.time()\n",
    "        print(\"EPOCH {} ...\".format(i+1))\n",
    "        print(\"Training Accuracy = {:.3f}\".format(training_accuracy))\n",
    "        print(\"Validation Accuracy = {:.3f}\".format(validation_accuracy))\n",
    "        print(\"Time spent %.2f\"%(toc-tic))\n"
   ]
  },
  {
   "cell_type": "code",
   "execution_count": 12,
   "metadata": {},
   "outputs": [],
   "source": [
    "import os\n",
    "os.environ[\"CUDA_DEVICE_ORDER\"] = \"PCI_BUS_ID\"\n",
    "os.environ[\"CUDA_VISIBLE_DEVICES\"] = \"0\""
   ]
  },
  {
   "cell_type": "code",
   "execution_count": 13,
   "metadata": {
    "scrolled": true
   },
   "outputs": [
    {
     "name": "stdout",
     "output_type": "stream",
     "text": [
      "Training...\n",
      "\n",
      "EPOCH 1 ...\n",
      "Training Accuracy = 0.996\n",
      "Validation Accuracy = 0.952\n",
      "Time spent 18.07\n",
      "EPOCH 2 ...\n",
      "Training Accuracy = 0.998\n",
      "Validation Accuracy = 0.955\n",
      "Time spent 35.42\n",
      "EPOCH 3 ...\n",
      "Training Accuracy = 0.998\n",
      "Validation Accuracy = 0.957\n",
      "Time spent 52.45\n",
      "EPOCH 4 ...\n",
      "Training Accuracy = 0.998\n",
      "Validation Accuracy = 0.960\n",
      "Time spent 69.63\n",
      "EPOCH 5 ...\n",
      "Training Accuracy = 0.999\n",
      "Validation Accuracy = 0.961\n",
      "Time spent 86.73\n",
      "EPOCH 6 ...\n",
      "Training Accuracy = 0.995\n",
      "Validation Accuracy = 0.941\n",
      "Time spent 103.93\n",
      "EPOCH 7 ...\n",
      "Training Accuracy = 0.999\n",
      "Validation Accuracy = 0.965\n",
      "Time spent 121.19\n",
      "EPOCH 8 ...\n",
      "Training Accuracy = 0.999\n",
      "Validation Accuracy = 0.966\n",
      "Time spent 138.53\n",
      "EPOCH 9 ...\n",
      "Training Accuracy = 0.999\n",
      "Validation Accuracy = 0.962\n",
      "Time spent 155.79\n",
      "EPOCH 10 ...\n",
      "Training Accuracy = 0.999\n",
      "Validation Accuracy = 0.962\n",
      "Time spent 173.00\n",
      "EPOCH 11 ...\n",
      "Training Accuracy = 0.999\n",
      "Validation Accuracy = 0.969\n",
      "Time spent 190.08\n",
      "EPOCH 12 ...\n",
      "Training Accuracy = 0.999\n",
      "Validation Accuracy = 0.958\n",
      "Time spent 207.19\n",
      "EPOCH 13 ...\n",
      "Training Accuracy = 0.997\n",
      "Validation Accuracy = 0.948\n",
      "Time spent 224.16\n",
      "EPOCH 14 ...\n",
      "Training Accuracy = 0.999\n",
      "Validation Accuracy = 0.966\n",
      "Time spent 241.07\n",
      "EPOCH 15 ...\n",
      "Training Accuracy = 0.999\n",
      "Validation Accuracy = 0.964\n",
      "Time spent 258.33\n",
      "Model saved\n"
     ]
    }
   ],
   "source": [
    "x = tf.placeholder(tf.float32, (None, 32, 32, 3))\n",
    "y = tf.placeholder(tf.int32, (None))\n",
    "one_hot_y = tf.one_hot(y, 43)\n",
    "rate = 0.001\n",
    "EPOCHS = 15\n",
    "BATCH_SIZE = 100\n",
    "\n",
    "logits = MyNet(x)\n",
    "cross_entropy = tf.nn.softmax_cross_entropy_with_logits(labels=one_hot_y, logits=logits)\n",
    "loss_operation = tf.reduce_mean(cross_entropy)\n",
    "optimizer = tf.train.AdamOptimizer(learning_rate = rate)\n",
    "training_operation = optimizer.minimize(loss_operation)\n",
    "\n",
    "correct_prediction = tf.equal(tf.argmax(logits, 1), tf.argmax(one_hot_y, 1))\n",
    "accuracy_operation = tf.reduce_mean(tf.cast(correct_prediction, tf.float32))\n",
    "\n",
    "saver = tf.train.Saver()\n",
    "import time\n",
    "\n",
    "with tf.Session() as sess:\n",
    "    sess.run(tf.global_variables_initializer())\n",
    "    train_model(X_train, y_train, sess)\n",
    "    saver.save(sess, './mynet')\n",
    "    print(\"Model saved\")"
   ]
  },
  {
   "cell_type": "code",
   "execution_count": 14,
   "metadata": {},
   "outputs": [
    {
     "name": "stdout",
     "output_type": "stream",
     "text": [
      "INFO:tensorflow:Restoring parameters from ./mynet\n",
      "test Accuracy = 0.9493\n"
     ]
    }
   ],
   "source": [
    "# test accuracy\n",
    "with tf.Session() as sess:\n",
    "    saver.restore(sess, './mynet')\n",
    "    test_accuracy = evaluate(X_test, y_test)\n",
    "    print(\"test Accuracy = {:.4f}\".format(test_accuracy))"
   ]
  },
  {
   "cell_type": "markdown",
   "metadata": {},
   "source": [
    "# ---\n",
    "\n",
    "## Step 3: Test a Model on New Images\n",
    "\n",
    "To give yourself more insight into how your model is working, download at least five pictures of German traffic signs from the web and use your model to predict the traffic sign type.\n",
    "\n",
    "You may find `signnames.csv` useful as it contains mappings from the class id (integer) to the actual sign name."
   ]
  },
  {
   "cell_type": "markdown",
   "metadata": {},
   "source": [
    "### Load and Output the Images"
   ]
  },
  {
   "cell_type": "code",
   "execution_count": 15,
   "metadata": {},
   "outputs": [],
   "source": [
    "def to_32(image):\n",
    "    \"\"\"\n",
    "    Convert image size： [64,64,4] -> [1,32,32,3] \n",
    "    \n",
    "    Parameters: \n",
    "    image: a [64,64,4] numpy array\n",
    "    \n",
    "    Return:  \n",
    "    a [1, 32, 32,3] numpy array\n",
    "    \"\"\"\n",
    "    image = image[:,:,0:3].reshape([1,64,64,3])\n",
    "    image = mm_scale(image)\n",
    "    # Maxpool:  Input = 64x64x3. Output = 32x32x3\n",
    "    k = tf.nn.max_pool(image, ksize=[1,2,2,1], strides=[1,2,2,1], padding=\"VALID\")\n",
    "    return tf.Session().run(k)"
   ]
  },
  {
   "cell_type": "code",
   "execution_count": 16,
   "metadata": {},
   "outputs": [],
   "source": [
    "def predict_sign(image, sess):\n",
    "    \"\"\"\n",
    "    Parameters: \n",
    "    image: image tensor with shape of [None, 32,32,3]\n",
    "    sess: current session\n",
    "    \n",
    "    Returns:\n",
    "    img_label: an Integer of the image's prediction\n",
    "    \n",
    "    \"\"\"\n",
    "    img_label = sess.run(tf.argmax(logits,1),feed_dict={x: image})[0] \n",
    "\n",
    "    return img_label\n"
   ]
  },
  {
   "cell_type": "markdown",
   "metadata": {},
   "source": [
    "### Predict the Sign Type for Each Image"
   ]
  },
  {
   "cell_type": "code",
   "execution_count": 17,
   "metadata": {},
   "outputs": [],
   "source": [
    "\n",
    "# ### Load the images and plot them here.\n",
    "# ### Feel free to use as many code cells as needed.\n",
    "import matplotlib.image as img\n",
    "im_own_name_set = [\"14-1.jpg\",\"1-1.jpg\",\"13-1.jpg\",\"17-1.jpg\",\"17-2.jpg\"]\n",
    "im_own_label_set = [14,1,13,17,17]\n",
    "\n"
   ]
  },
  {
   "cell_type": "code",
   "execution_count": 18,
   "metadata": {},
   "outputs": [
    {
     "name": "stdout",
     "output_type": "stream",
     "text": [
      "INFO:tensorflow:Restoring parameters from ./mynet\n",
      "Prediction 14-1.jpg  : Stop                         14\tIt's correct\n",
      "Prediction 1-1.jpg   : Speed limit (30km/h)          1\tIt's correct\n",
      "Prediction 13-1.jpg  : Yield                        13\tIt's correct\n",
      "Prediction 17-1.jpg  : No entry                     17\tIt's correct\n",
      "Prediction 17-2.jpg  : No entry                     17\tIt's correct\n"
     ]
    },
    {
     "data": {
      "image/png": "[encoded data removed]",
      "text/plain": [
       "<matplotlib.figure.Figure at 0x2e900066dd8>"
      ]
     },
     "metadata": {},
     "output_type": "display_data"
    }
   ],
   "source": [
    "### Run the predictions here and use the model to output the prediction for each image.\n",
    "### Make sure to pre-process the images with the same pre-processing pipeline used earlier.\n",
    "### Feel free to use as many code cells as needed.\n",
    "\n",
    "# for 5 images accuracy summary (next cell)\n",
    "correct_pred = 0\n",
    "img_amount = len(im_own_name_set)\n",
    "own_accuracy = 0    \n",
    "\n",
    "\n",
    "with tf.Session() as sess:\n",
    "    saver.restore(sess, './mynet')\n",
    "    fig = plt.figure(figsize=(16,9))\n",
    "    index = 0\n",
    "    \n",
    "    for i in im_own_name_set:\n",
    "        im = img.imread(\"New Images/\"+i).astype(\"float32\")\n",
    "        k = to_32(im)\n",
    "        fig.add_subplot(3,2,index+1)\n",
    "        plt.title(signnames[im_own_label_set[index]])\n",
    "\n",
    "        plt.imshow(k[0,:,:,:])\n",
    "        plt.axis(\"off\")\n",
    "        prediction = predict_sign(k,sess)\n",
    "        correct_label = im_own_label_set[index]\n",
    "        correct_name = signnames[correct_label]\n",
    "        if prediction == correct_label:\n",
    "            correct_pred +=1\n",
    "            print(\"Prediction %-9s : %-28s %2d\\tIt's correct\"%(i,signnames[prediction],prediction))\n",
    "        else:\n",
    "            print(\"Prediction %-9s : %-28s %2d\\tThe correct label is %s\"%(i,signnames[prediction],prediction,correct_name))\n",
    "        index +=1\n",
    "    own_accuracy = correct_pred/img_amount"
   ]
  },
  {
   "cell_type": "markdown",
   "metadata": {},
   "source": [
    "### Analyze Performance"
   ]
  },
  {
   "cell_type": "code",
   "execution_count": 19,
   "metadata": {},
   "outputs": [
    {
     "name": "stdout",
     "output_type": "stream",
     "text": [
      "The accuracy for the 5 images is 100%\n"
     ]
    }
   ],
   "source": [
    "### Calculate the accuracy for these 5 new images. \n",
    "### For example, if the model predicted 1 out of 5 signs correctly, it's 20% accurate on these new images.\n",
    "print(\"The accuracy for the 5 images is %d%%\" %(own_accuracy*100))"
   ]
  },
  {
   "cell_type": "markdown",
   "metadata": {},
   "source": [
    "### Output Top 5 Softmax Probabilities For Each Image Found on the Web"
   ]
  },
  {
   "cell_type": "markdown",
   "metadata": {},
   "source": [
    "For each of the new images, print out the model's softmax probabilities to show the **certainty** of the model's predictions (limit the output to the top 5 probabilities for each image). [`tf.nn.top_k`](https://www.tensorflow.org/versions/r0.12/api_docs/python/nn.html#top_k) could prove helpful here. \n",
    "\n",
    "The example below demonstrates how tf.nn.top_k can be used to find the top k predictions for each image.\n",
    "\n",
    "`tf.nn.top_k` will return the values and indices (class ids) of the top k predictions. So if k=3, for each sign, it'll return the 3 largest probabilities (out of a possible 43) and the correspoding class ids.\n",
    "\n",
    "Take this numpy array as an example. The values in the array represent predictions. The array contains softmax probabilities for five candidate images with six possible classes. `tf.nn.top_k` is used to choose the three classes with the highest probability:\n",
    "\n",
    "```\n",
    "# (5, 6) array\n",
    "a = np.array([[ 0.24879643,  0.07032244,  0.12641572,  0.34763842,  0.07893497,\n",
    "         0.12789202],\n",
    "       [ 0.28086119,  0.27569815,  0.08594638,  0.0178669 ,  0.18063401,\n",
    "         0.15899337],\n",
    "       [ 0.26076848,  0.23664738,  0.08020603,  0.07001922,  0.1134371 ,\n",
    "         0.23892179],\n",
    "       [ 0.11943333,  0.29198961,  0.02605103,  0.26234032,  0.1351348 ,\n",
    "         0.16505091],\n",
    "       [ 0.09561176,  0.34396535,  0.0643941 ,  0.16240774,  0.24206137,\n",
    "         0.09155967]])\n",
    "```\n",
    "\n",
    "Running it through `sess.run(tf.nn.top_k(tf.constant(a), k=3))` produces:\n",
    "\n",
    "```\n",
    "TopKV2(values=array([[ 0.34763842,  0.24879643,  0.12789202],\n",
    "       [ 0.28086119,  0.27569815,  0.18063401],\n",
    "       [ 0.26076848,  0.23892179,  0.23664738],\n",
    "       [ 0.29198961,  0.26234032,  0.16505091],\n",
    "       [ 0.34396535,  0.24206137,  0.16240774]]), indices=array([[3, 0, 5],\n",
    "       [0, 1, 4],\n",
    "       [0, 5, 1],\n",
    "       [1, 3, 5],\n",
    "       [1, 4, 3]], dtype=int32))\n",
    "```\n",
    "\n",
    "Looking just at the first row we get `[ 0.34763842,  0.24879643,  0.12789202]`, you can confirm these are the 3 largest probabilities in `a`. You'll also notice `[3, 0, 5]` are the corresponding indices."
   ]
  },
  {
   "cell_type": "code",
   "execution_count": 20,
   "metadata": {},
   "outputs": [
    {
     "name": "stdout",
     "output_type": "stream",
     "text": [
      "INFO:tensorflow:Restoring parameters from ./mynet\n",
      "The top 5 possible label for the given image [[14-1.jpg]] are\n",
      "14 \t Stop :  1.0\n",
      "17 \t No entry :  4.26742e-11\n",
      "13 \t Yield :  3.20605e-12\n",
      "1 \t Speed limit (30km/h) :  1.40063e-15\n",
      "2 \t Speed limit (50km/h) :  3.66033e-16\n",
      "\n",
      "The top 5 possible label for the given image [[1-1.jpg]] are\n",
      "1 \t Speed limit (30km/h) :  0.997394\n",
      "2 \t Speed limit (50km/h) :  0.00260605\n",
      "6 \t End of speed limit (80km/h) :  4.15036e-07\n",
      "21 \t Double curve :  5.16694e-08\n",
      "31 \t Wild animals crossing :  1.68253e-09\n",
      "\n",
      "The top 5 possible label for the given image [[13-1.jpg]] are\n",
      "13 \t Yield :  1.0\n",
      "0 \t Speed limit (20km/h) :  1.22172e-15\n",
      "39 \t Keep left :  6.53608e-16\n",
      "8 \t Speed limit (120km/h) :  2.21544e-16\n",
      "7 \t Speed limit (100km/h) :  8.50117e-17\n",
      "\n",
      "The top 5 possible label for the given image [[17-1.jpg]] are\n",
      "17 \t No entry :  1.0\n",
      "0 \t Speed limit (20km/h) :  2.73826e-10\n",
      "14 \t Stop :  2.34833e-14\n",
      "1 \t Speed limit (30km/h) :  1.26694e-14\n",
      "8 \t Speed limit (120km/h) :  2.80624e-16\n",
      "\n",
      "The top 5 possible label for the given image [[17-2.jpg]] are\n",
      "17 \t No entry :  1.0\n",
      "1 \t Speed limit (30km/h) :  4.73123e-08\n",
      "0 \t Speed limit (20km/h) :  3.93691e-08\n",
      "8 \t Speed limit (120km/h) :  5.50956e-09\n",
      "14 \t Stop :  8.76801e-11\n",
      "\n"
     ]
    },
    {
     "data": {
      "image/png": "[encoded data removed]",
      "text/plain": [
       "<matplotlib.figure.Figure at 0x2e964882fd0>"
      ]
     },
     "metadata": {},
     "output_type": "display_data"
    }
   ],
   "source": [
    "### Print out the top five softmax probabilities for the predictions on the German traffic sign images found on the web. \n",
    "### Feel free to use as many code cells as needed.\n",
    "fig = plt.figure(figsize=(18,15))\n",
    "with tf.Session() as sess:\n",
    "    saver.restore(sess, \"./mynet\")\n",
    "    index = 0\n",
    "    for i in im_own_name_set:\n",
    "        im = img.imread(\"New Images/\"+i).astype(\"float32\")\n",
    "        im = to_32(im)\n",
    "        all_probs = sess.run(logits, feed_dict={x:im})\n",
    "        top5 = sess.run(tf.nn.top_k(all_probs, k=5))\n",
    "        \n",
    "        print(\"The top 5 possible label for the given image [[%s]] are\"%(i))\n",
    "        for k in range(5):\n",
    "            print(top5[1][0][k],\"\\t\",signnames[top5[1][0][k]], \": \", top5[0][0][k])\n",
    "        \n",
    "        fig.add_subplot(5,2,2*index+1)\n",
    "        rects =plt.bar(left = (0.2,0.4,0.6,0.8,1),height = list(top5[0][0]),width = 0.1,align=\"center\",yerr=0.0001)\n",
    "        plt.xticks((0.2,0.4,0.6,0.8,1), top5[1][0])\n",
    "        \n",
    "        fig.add_subplot(5,2,2*index+2)\n",
    "        plt.imshow(im[0,:,:,:])\n",
    "        plt.axis(\"off\")\n",
    "        plt.title(signnames[im_own_label_set[index]])\n",
    "        index +=1\n",
    "        print()"
   ]
  },
  {
   "cell_type": "markdown",
   "metadata": {},
   "source": [
    "### Project Writeup\n",
    "\n",
    "Once you have completed the code implementation, document your results in a project writeup using this [template](https://github.com/udacity/CarND-Traffic-Sign-Classifier-Project/blob/master/writeup_template.md) as a guide. The writeup can be in a markdown or pdf file. "
   ]
  },
  {
   "cell_type": "markdown",
   "metadata": {},
   "source": [
    "> **Note**: Once you have completed all of the code implementations and successfully answered each question above, you may finalize your work by exporting the iPython Notebook as an HTML document. You can do this by using the menu above and navigating to  \\n\",\n",
    "    \"**File -> Download as -> HTML (.html)**. Include the finished document along with this notebook as your submission."
   ]
  },
  {
   "cell_type": "markdown",
   "metadata": {},
   "source": [
    "---\n",
    "\n",
    "## Step 4 (Optional): Visualize the Neural Network's State with Test Images\n",
    "\n",
    " This Section is not required to complete but acts as an additional excersise for understaning the output of a neural network's weights. While neural networks can be a great learning device they are often referred to as a black box. We can understand what the weights of a neural network look like better by plotting their feature maps. After successfully training your neural network you can see what it's feature maps look like by plotting the output of the network's weight layers in response to a test stimuli image. From these plotted feature maps, it's possible to see what characteristics of an image the network finds interesting. For a sign, maybe the inner network feature maps react with high activation to the sign's boundary outline or to the contrast in the sign's painted symbol.\n",
    "\n",
    " Provided for you below is the function code that allows you to get the visualization output of any tensorflow weight layer you want. The inputs to the function should be a stimuli image, one used during training or a new one you provided, and then the tensorflow variable name that represents the layer's state during the training process, for instance if you wanted to see what the [LeNet lab's](https://classroom.udacity.com/nanodegrees/nd013/parts/fbf77062-5703-404e-b60c-95b78b2f3f9e/modules/6df7ae49-c61c-4bb2-a23e-6527e69209ec/lessons/601ae704-1035-4287-8b11-e2c2716217ad/concepts/d4aca031-508f-4e0b-b493-e7b706120f81) feature maps looked like for it's second convolutional layer you could enter conv2 as the tf_activation variable.\n",
    "\n",
    "For an example of what feature map outputs look like, check out NVIDIA's results in their paper [End-to-End Deep Learning for Self-Driving Cars](https://devblogs.nvidia.com/parallelforall/deep-learning-self-driving-cars/) in the section Visualization of internal CNN State. NVIDIA was able to show that their network's inner weights had high activations to road boundary lines by comparing feature maps from an image with a clear path to one without. Try experimenting with a similar test to show that your trained network's weights are looking for interesting features, whether it's looking at differences in feature maps from images with or without a sign, or even what feature maps look like in a trained network vs a completely untrained one on the same sign image.\n",
    "\n",
    "<figure>\n",
    " <img src=\"visualize_cnn.png\" width=\"380\" alt=\"Combined Image\" />\n",
    " <figcaption>\n",
    " <p></p> \n",
    " <p style=\"text-align: center;\"> Your output should look something like this (above)</p> \n",
    " </figcaption>\n",
    "</figure>\n",
    " <p></p> \n"
   ]
  },
  {
   "cell_type": "code",
   "execution_count": 21,
   "metadata": {},
   "outputs": [],
   "source": [
    "### Visualize your network's feature maps here.\n",
    "### Feel free to use as many code cells as needed.\n",
    "\n",
    "# image_input: the test image being fed into the network to produce the feature maps\n",
    "# tf_activation: should be a tf variable name used during your training procedure that represents the calculated state of a specific weight layer\n",
    "# activation_min/max: can be used to view the activation contrast in more detail, by default matplot sets min and max to the actual min and max values of the output\n",
    "# plt_num: used to plot out multiple different weight feature map sets on the same block, just extend the plt number for each new feature map entry\n",
    "\n",
    "def outputFeatureMap(image_input, tf_activation, activation_min=-1, activation_max=-1 ,plt_num=1):\n",
    "    # Here make sure to preprocess your image_input in a way your network expects\n",
    "    # with size, normalization, ect if needed\n",
    "    # image_input =\n",
    "    # Note: x should be the same name as your network's tensorflow data placeholder variable\n",
    "    # If you get an error tf_activation is not defined it may be having trouble accessing the variable from inside a function\n",
    "    activation = tf_activation.eval(session=sess,feed_dict={x : image_input})\n",
    "    featuremaps = activation.shape[3]\n",
    "    plt.figure(plt_num, figsize=(15,15))\n",
    "    for featuremap in range(featuremaps):\n",
    "        plt.subplot(6,8, featuremap+1) # sets the number of feature maps to show on each row and column\n",
    "        plt.title('FeatureMap ' + str(featuremap)) # displays the feature map number\n",
    "        if activation_min != -1 & activation_max != -1:\n",
    "            plt.imshow(activation[0,:,:, featuremap], interpolation=\"nearest\", vmin =activation_min, vmax=activation_max, cmap=\"gray\")\n",
    "        elif activation_max != -1:\n",
    "            plt.imshow(activation[0,:,:, featuremap], interpolation=\"nearest\", vmax=activation_max, cmap=\"gray\")\n",
    "        elif activation_min !=-1:\n",
    "            plt.imshow(activation[0,:,:, featuremap], interpolation=\"nearest\", vmin=activation_min, cmap=\"gray\")\n",
    "        else:\n",
    "            plt.imshow(activation[0,:,:, featuremap], interpolation=\"nearest\", cmap=\"gray\")\n",
    "            \n",
    "            "
   ]
  },
  {
   "cell_type": "code",
   "execution_count": null,
   "metadata": {},
   "outputs": [],
   "source": []
  }
 ],
 "metadata": {
  "anaconda-cloud": {},
  "kernelspec": {
   "display_name": "Python 3",
   "language": "python",
   "name": "python3"
  },
  "language_info": {
   "codemirror_mode": {
    "name": "ipython",
    "version": 3
   },
   "file_extension": ".py",
   "mimetype": "text/x-python",
   "name": "python",
   "nbconvert_exporter": "python",
   "pygments_lexer": "ipython3",
   "version": "3.5.2"
  },
  "widgets": {
   "state": {},
   "version": "1.1.2"
  }
 },
 "nbformat": 4,
 "nbformat_minor": 1
}
